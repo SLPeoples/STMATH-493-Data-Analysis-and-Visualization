{
 "cells": [
  {
   "cell_type": "markdown",
   "metadata": {},
   "source": [
    "# The Value of Visualizaton"
   ]
  },
  {
   "cell_type": "markdown",
   "metadata": {},
   "source": [
    "In 2010 there was 1200 exabytes of data."
   ]
  },
  {
   "cell_type": "markdown",
   "metadata": {},
   "source": [
    "The goal is to tell a story. If you don't see the story, things may be difficult to understand.\n",
    "\n",
    "Making things neat and interesting will help your reader and viewer understand your story.\n",
    "\n",
    "Specificity of timeline and colors are important."
   ]
  },
  {
   "cell_type": "markdown",
   "metadata": {},
   "source": [
    "The abilit to take data- to be able to understand it to process it to extract value from it, to visualize it, to communicate it -- thats going to be a hugely umprtabt skill n the next decauses becase now we really do have essentailly free and ubiquitous data. SO the cimplimentary scares factor is the ability tu understand thedata."
   ]
  },
  {
   "cell_type": "markdown",
   "metadata": {},
   "source": [
    "## A poverty of attenton"
   ]
  },
  {
   "cell_type": "markdown",
   "metadata": {},
   "source": [
    "What information consumes is rather obvious: it consumes the attention of its recipients. Hence a wealth of infomation creates a poverty of attention, and a need to allocate that attention efficiently amoung the overabundance of information sources that might consume it\n",
    "\n",
    "Herb Simonson 1995"
   ]
  },
  {
   "cell_type": "markdown",
   "metadata": {},
   "source": [
    "## What is Visualization?"
   ]
  },
  {
   "cell_type": "markdown",
   "metadata": {},
   "source": [
    "Using computers to view data and how it is related.\n",
    "\n",
    "Visualizations speak louder than data."
   ]
  },
  {
   "cell_type": "markdown",
   "metadata": {},
   "source": [
    "## Why create visualizations?"
   ]
  },
  {
   "cell_type": "raw",
   "metadata": {},
   "source": []
  }
 ],
 "metadata": {
  "kernelspec": {
   "display_name": "R",
   "language": "R",
   "name": "ir"
  },
  "language_info": {
   "codemirror_mode": "r",
   "file_extension": ".r",
   "mimetype": "text/x-r-source",
   "name": "R",
   "pygments_lexer": "r",
   "version": "3.4.2"
  }
 },
 "nbformat": 4,
 "nbformat_minor": 2
}
